{
 "cells": [
  {
   "cell_type": "markdown",
   "metadata": {
    "id": "E0vqbgi9ay0H"
   },
   "source": [
    "# Yandex.Music"
   ]
  },
  {
   "cell_type": "markdown",
   "metadata": {
    "id": "VUC88oWjTJw2"
   },
   "source": [
    "There are a lot of myths when we try to compare Moscow and Saint Petersburg, for example:\n",
    " * Moscow is a metropolis subject to the rigit rhythm of the working week;\n",
    " * Saint Peterburg is a cultural capital with its own preferences.\n",
    "\n",
    "\n",
    "Using Yandex.Music data, we will compare the behavior of users in the two capitals.\n",
    "\n",
    "**The purpose of the research** is test three hypotheses:\n",
    "1. User activity depends on the day of the week. Moreover, in Moscow and St. Petersburg, this manifests in different ways.\n",
    "2. On Monday morning, certain genres dominate in Moscow, while others dominate in St. Petersburg. Similarly, Friday nights are dominated by different genres, depending on the city. \n",
    "3. People in Moscow and St. Petersburg prefer different genres of music. In Moscow, they listen to pop music more often, in St. Petersburg people prefer russian rap.\n",
    "\n",
    "**The research progress**\n",
    " \n",
    "The research will take place in three stages:\n",
    " 1. Data review.\n",
    " 2. Data preprocessing.\n",
    " 3. Hypothesis testing.\n",
    "\n"
   ]
  },
  {
   "cell_type": "markdown",
   "metadata": {
    "id": "Ml1hmfXC_Zcs"
   },
   "source": [
    "## Data review\n",
    "\n",
    "Get a first notion about Yandex.Music data.\n",
    "\n",
    "\n"
   ]
  },
  {
   "cell_type": "code",
   "execution_count": 1,
   "metadata": {
    "id": "AXN7PHPN_Zcs"
   },
   "outputs": [],
   "source": [
    "# import pandas\n",
    "import pandas as pd  "
   ]
  },
  {
   "cell_type": "code",
   "execution_count": 2,
   "metadata": {
    "id": "fFVu7vqh_Zct"
   },
   "outputs": [],
   "source": [
    "# reading data file and saving in df\n",
    "df = pd.read_csv('...csv')  "
   ]
  },
  {
   "cell_type": "code",
   "execution_count": 3,
   "metadata": {
    "id": "oWTVX3gW_Zct",
    "scrolled": true
   },
   "outputs": [
    {
     "data": {
      "text/html": [
       "<div>\n",
       "<style scoped>\n",
       "    .dataframe tbody tr th:only-of-type {\n",
       "        vertical-align: middle;\n",
       "    }\n",
       "\n",
       "    .dataframe tbody tr th {\n",
       "        vertical-align: top;\n",
       "    }\n",
       "\n",
       "    .dataframe thead th {\n",
       "        text-align: right;\n",
       "    }\n",
       "</style>\n",
       "<table border=\"1\" class=\"dataframe\">\n",
       "  <thead>\n",
       "    <tr style=\"text-align: right;\">\n",
       "      <th></th>\n",
       "      <th>userID</th>\n",
       "      <th>Track</th>\n",
       "      <th>artist</th>\n",
       "      <th>genre</th>\n",
       "      <th>City</th>\n",
       "      <th>time</th>\n",
       "      <th>Day</th>\n",
       "    </tr>\n",
       "  </thead>\n",
       "  <tbody>\n",
       "    <tr>\n",
       "      <td>0</td>\n",
       "      <td>FFB692EC</td>\n",
       "      <td>Kamigata To Boots</td>\n",
       "      <td>The Mass Missile</td>\n",
       "      <td>rock</td>\n",
       "      <td>Saint-Petersburg</td>\n",
       "      <td>20:28:33</td>\n",
       "      <td>Wednesday</td>\n",
       "    </tr>\n",
       "    <tr>\n",
       "      <td>1</td>\n",
       "      <td>55204538</td>\n",
       "      <td>Delayed Because of Accident</td>\n",
       "      <td>Andreas Rönnberg</td>\n",
       "      <td>rock</td>\n",
       "      <td>Moscow</td>\n",
       "      <td>14:07:09</td>\n",
       "      <td>Friday</td>\n",
       "    </tr>\n",
       "    <tr>\n",
       "      <td>2</td>\n",
       "      <td>20EC38</td>\n",
       "      <td>Funiculì funiculà</td>\n",
       "      <td>Mario Lanza</td>\n",
       "      <td>pop</td>\n",
       "      <td>Saint-Petersburg</td>\n",
       "      <td>20:58:07</td>\n",
       "      <td>Wednesday</td>\n",
       "    </tr>\n",
       "    <tr>\n",
       "      <td>3</td>\n",
       "      <td>A3DD03C9</td>\n",
       "      <td>Dragons in the Sunset</td>\n",
       "      <td>Fire + Ice</td>\n",
       "      <td>folk</td>\n",
       "      <td>Saint-Petersburg</td>\n",
       "      <td>08:37:09</td>\n",
       "      <td>Monday</td>\n",
       "    </tr>\n",
       "    <tr>\n",
       "      <td>4</td>\n",
       "      <td>E2DC1FAE</td>\n",
       "      <td>Soul People</td>\n",
       "      <td>Space Echo</td>\n",
       "      <td>dance</td>\n",
       "      <td>Moscow</td>\n",
       "      <td>08:34:34</td>\n",
       "      <td>Monday</td>\n",
       "    </tr>\n",
       "    <tr>\n",
       "      <td>5</td>\n",
       "      <td>842029A1</td>\n",
       "      <td>Преданная</td>\n",
       "      <td>IMPERVTOR</td>\n",
       "      <td>rusrap</td>\n",
       "      <td>Saint-Petersburg</td>\n",
       "      <td>13:09:41</td>\n",
       "      <td>Friday</td>\n",
       "    </tr>\n",
       "    <tr>\n",
       "      <td>6</td>\n",
       "      <td>4CB90AA5</td>\n",
       "      <td>True</td>\n",
       "      <td>Roman Messer</td>\n",
       "      <td>dance</td>\n",
       "      <td>Moscow</td>\n",
       "      <td>13:00:07</td>\n",
       "      <td>Wednesday</td>\n",
       "    </tr>\n",
       "    <tr>\n",
       "      <td>7</td>\n",
       "      <td>F03E1C1F</td>\n",
       "      <td>Feeling This Way</td>\n",
       "      <td>Polina Griffith</td>\n",
       "      <td>dance</td>\n",
       "      <td>Moscow</td>\n",
       "      <td>20:47:49</td>\n",
       "      <td>Wednesday</td>\n",
       "    </tr>\n",
       "    <tr>\n",
       "      <td>8</td>\n",
       "      <td>8FA1D3BE</td>\n",
       "      <td>И вновь продолжается бой</td>\n",
       "      <td>NaN</td>\n",
       "      <td>ruspop</td>\n",
       "      <td>Moscow</td>\n",
       "      <td>09:17:40</td>\n",
       "      <td>Friday</td>\n",
       "    </tr>\n",
       "    <tr>\n",
       "      <td>9</td>\n",
       "      <td>E772D5C0</td>\n",
       "      <td>Pessimist</td>\n",
       "      <td>NaN</td>\n",
       "      <td>dance</td>\n",
       "      <td>Saint-Petersburg</td>\n",
       "      <td>21:20:49</td>\n",
       "      <td>Wednesday</td>\n",
       "    </tr>\n",
       "  </tbody>\n",
       "</table>\n",
       "</div>"
      ],
      "text/plain": [
       "     userID                        Track            artist   genre  \\\n",
       "0  FFB692EC            Kamigata To Boots  The Mass Missile    rock   \n",
       "1  55204538  Delayed Because of Accident  Andreas Rönnberg    rock   \n",
       "2    20EC38            Funiculì funiculà       Mario Lanza     pop   \n",
       "3  A3DD03C9        Dragons in the Sunset        Fire + Ice    folk   \n",
       "4  E2DC1FAE                  Soul People        Space Echo   dance   \n",
       "5  842029A1                    Преданная         IMPERVTOR  rusrap   \n",
       "6  4CB90AA5                         True      Roman Messer   dance   \n",
       "7  F03E1C1F             Feeling This Way   Polina Griffith   dance   \n",
       "8  8FA1D3BE     И вновь продолжается бой               NaN  ruspop   \n",
       "9  E772D5C0                    Pessimist               NaN   dance   \n",
       "\n",
       "             City        time        Day  \n",
       "0  Saint-Petersburg  20:28:33  Wednesday  \n",
       "1            Moscow  14:07:09     Friday  \n",
       "2  Saint-Petersburg  20:58:07  Wednesday  \n",
       "3  Saint-Petersburg  08:37:09     Monday  \n",
       "4            Moscow  08:34:34     Monday  \n",
       "5  Saint-Petersburg  13:09:41     Friday  \n",
       "6            Moscow  13:00:07  Wednesday  \n",
       "7            Moscow  20:47:49  Wednesday  \n",
       "8            Moscow  09:17:40     Friday  \n",
       "9  Saint-Petersburg  21:20:49  Wednesday  "
      ]
     },
     "metadata": {},
     "output_type": "display_data"
    }
   ],
   "source": [
    "# getting the first 10 rows of the table df\n",
    "display(df.head(10))  "
   ]
  },
  {
   "cell_type": "code",
   "execution_count": 4,
   "metadata": {
    "id": "DSf2kIb-_Zct",
    "scrolled": false
   },
   "outputs": [
    {
     "name": "stdout",
     "output_type": "stream",
     "text": [
      "<class 'pandas.core.frame.DataFrame'>\n",
      "RangeIndex: 65079 entries, 0 to 65078\n",
      "Data columns (total 7 columns):\n",
      "  userID    65079 non-null object\n",
      "Track       63848 non-null object\n",
      "artist      57876 non-null object\n",
      "genre       63881 non-null object\n",
      "  City      65079 non-null object\n",
      "time        65079 non-null object\n",
      "Day         65079 non-null object\n",
      "dtypes: object(7)\n",
      "memory usage: 3.5+ MB\n"
     ]
    }
   ],
   "source": [
    "# getting general information about the date in the table df\n",
    "df.info()  "
   ]
  },
  {
   "cell_type": "markdown",
   "metadata": {
    "id": "TaQ2Iwbr_Zct"
   },
   "source": [
    "So the table has seven columns. Data type in all columns — `object`.\n",
    "\n",
    "According to data documentation:\n",
    "* `userID` — user ID;\n",
    "* `Track` — track title;  \n",
    "* `artist` — artist name;\n",
    "* `genre` — genre name;\n",
    "* `City` — user's city;\n",
    "* `time` — listening start time;\n",
    "* `Day` — day of the week.\n",
    "\n",
    "There are three style violations in the column headings:\n",
    "1. Lowercase letters are combined with uppercase.\n",
    "2. There are missing values.\n",
    "3. The first column 'userID', must be written in 'snake case': 'user_id'\n",
    "\n",
    "\n",
    "\n",
    "The number of values in the columns varies. So there are missing values in the data.\n"
   ]
  },
  {
   "cell_type": "markdown",
   "metadata": {
    "id": "MCB6-dXG_Zct"
   },
   "source": [
    "**Conclusions**\n",
    "\n",
    "Each line of the table contains data about the track users have listened to. Some of the columns describe the composition itself: title, artist and genre. The rest of the data tells about the user: what city user is from, when user listened to music. \n",
    "\n",
    "Preliminarily, it can be argued that there is enough data to test hypotheses. But there are missing values, and there is a bad style in the names of some columns.\n",
    "\n",
    "To move forward, we need to fix problems in the data."
   ]
  },
  {
   "cell_type": "markdown",
   "metadata": {
    "id": "SjYF6Ub9_Zct"
   },
   "source": [
    "## Data preprocessing\n",
    "\n",
    "Let's fix the style in the column headings, eliminate missing values. Then check the data for duplicates."
   ]
  },
  {
   "cell_type": "markdown",
   "metadata": {
    "id": "dIaKXr29_Zct"
   },
   "source": [
    "### Style in the column headings\n"
   ]
  },
  {
   "cell_type": "code",
   "execution_count": 5,
   "metadata": {
    "id": "oKOTdF_Q_Zct"
   },
   "outputs": [
    {
     "data": {
      "text/plain": [
       "Index(['  userID', 'Track', 'artist', 'genre', '  City  ', 'time', 'Day'], dtype='object')"
      ]
     },
     "execution_count": 5,
     "metadata": {},
     "output_type": "execute_result"
    }
   ],
   "source": [
    "# list of table column names df\n",
    "df.columns"
   ]
  },
  {
   "cell_type": "markdown",
   "metadata": {
    "id": "zj5534cv_Zct"
   },
   "source": [
    "Let's bring the column names into good style:\n",
    "* write a few words in the title in «snake_register»,\n",
    "* make all characters lowercase,\n",
    "* remove all missing values.\n",
    "\n",
    "To do this, rename the columns like this:\n",
    "* `'  userID'` → `'user_id'`;\n",
    "* `'Track'` → `'track'`;\n",
    "* `'  City  '` → `'city'`;\n",
    "* `'Day'` → `'day'`."
   ]
  },
  {
   "cell_type": "code",
   "execution_count": 6,
   "metadata": {
    "id": "ISlFqs5y_Zct"
   },
   "outputs": [],
   "source": [
    "# renaming columns\n",
    "df = df.rename(columns={'  userID': 'user_id', 'Track': 'track', '  City  ': 'city', 'Day': 'day'})"
   ]
  },
  {
   "cell_type": "markdown",
   "metadata": {
    "id": "1dqbh00J_Zct"
   },
   "source": [
    "Let's check the result. To do this, once again display the names of the columns:"
   ]
  },
  {
   "cell_type": "code",
   "execution_count": 7,
   "metadata": {
    "id": "d4NOAmTW_Zct",
    "scrolled": true
   },
   "outputs": [
    {
     "data": {
      "text/plain": [
       "Index(['user_id', 'track', 'artist', 'genre', 'city', 'time', 'day'], dtype='object')"
      ]
     },
     "execution_count": 7,
     "metadata": {},
     "output_type": "execute_result"
    }
   ],
   "source": [
    "# check results\n",
    "df.columns"
   ]
  },
  {
   "cell_type": "markdown",
   "metadata": {
    "id": "5ISfbcfY_Zct"
   },
   "source": [
    "### Data missing values\n",
    "\n",
    "First, let's calculate how many missing values ​​are in the table. There are two `pandas` methods for this :"
   ]
  },
  {
   "cell_type": "code",
   "execution_count": 8,
   "metadata": {
    "id": "RskX29qr_Zct",
    "scrolled": true
   },
   "outputs": [
    {
     "name": "stdout",
     "output_type": "stream",
     "text": [
      "user_id       0\n",
      "track      1231\n",
      "artist     7203\n",
      "genre      1198\n",
      "city          0\n",
      "time          0\n",
      "day           0\n",
      "dtype: int64\n"
     ]
    }
   ],
   "source": [
    "# calculating missing values\n",
    "print(df.isna().sum())"
   ]
  },
  {
   "cell_type": "markdown",
   "metadata": {
    "id": "qubhgnlO_Zct"
   },
   "source": [
    "Not all missing values affect the research. So in `track` and `artist` missing values are not important for our project. It suffices to replace them with explicit notation.\n",
    "\n",
    "But missing values in  `genre` may interfere with the comparison of musical preferences in Moscow and St. Petersburg. In practice, it would be correct to determine the cause of the missing values and restore the data. This option is not available in the curriculum. So we have to:\n",
    "* fill in these missing values with explicit notation,\n",
    "* estimate how these missing values will damage the calculations. "
   ]
  },
  {
   "cell_type": "markdown",
   "metadata": {
    "id": "fSv2laPA_Zct"
   },
   "source": [
    "So let's replace the missing values in the columns `track`, `artist` and `genre` with `'unknown'`. To do this, let's create a list `columns_to_replace`, loop through its elements with using  `for` and for each column, perform the replacement of missing values:"
   ]
  },
  {
   "cell_type": "code",
   "execution_count": 9,
   "metadata": {
    "id": "KplB5qWs_Zct"
   },
   "outputs": [],
   "source": [
    "# iterate through the column names in a loop and replace the missing values with 'unknown'\n",
    "columns_to_replace = ['track', 'artist', 'genre']\n",
    "for elem in columns_to_replace:\n",
    "    df[elem] = df[elem].fillna('unknown')"
   ]
  },
  {
   "cell_type": "markdown",
   "metadata": {
    "id": "Ilsm-MZo_Zct"
   },
   "source": [
    "Make sure there are no missing values in the table. To do this, once again calculate the missing values."
   ]
  },
  {
   "cell_type": "code",
   "execution_count": 10,
   "metadata": {
    "id": "Tq4nYRX4_Zct",
    "scrolled": false
   },
   "outputs": [
    {
     "name": "stdout",
     "output_type": "stream",
     "text": [
      "user_id    0\n",
      "track      0\n",
      "artist     0\n",
      "genre      0\n",
      "city       0\n",
      "time       0\n",
      "day        0\n",
      "dtype: int64\n"
     ]
    }
   ],
   "source": [
    "# calculating the missing values\n",
    "print(df.isna().sum())"
   ]
  },
  {
   "cell_type": "markdown",
   "metadata": {
    "id": "BWKRtBJ3_Zct"
   },
   "source": [
    "### Duplicates\n",
    "\n",
    "Let's calculate the explicit duplicates in the table:"
   ]
  },
  {
   "cell_type": "code",
   "execution_count": 11,
   "metadata": {
    "id": "36eES_S0_Zct"
   },
   "outputs": [
    {
     "data": {
      "text/plain": [
       "3826"
      ]
     },
     "execution_count": 11,
     "metadata": {},
     "output_type": "execute_result"
    }
   ],
   "source": [
    "# calculating the explicit duplicates\n",
    "df.duplicated().sum()"
   ]
  },
  {
   "cell_type": "code",
   "execution_count": 12,
   "metadata": {
    "id": "exFHq6tt_Zct"
   },
   "outputs": [],
   "source": [
    "# removal of explicit duplicates (with the removal of old indexes and the formation of new ones)\n",
    "df = df.drop_duplicates().reset_index(drop=True)"
   ]
  },
  {
   "cell_type": "markdown",
   "metadata": {
    "id": "Im2YwBEG_Zct"
   },
   "source": [
    "Once again, we will count the explicit duplicates in the table and make sure that we completely delete all of it:"
   ]
  },
  {
   "cell_type": "code",
   "execution_count": 13,
   "metadata": {
    "id": "-8PuNWQ0_Zct"
   },
   "outputs": [
    {
     "data": {
      "text/plain": [
       "0"
      ]
     },
     "execution_count": 13,
     "metadata": {},
     "output_type": "execute_result"
    }
   ],
   "source": [
    "# check foe missing explicit duplicates\n",
    "df.duplicated().sum()"
   ]
  },
  {
   "cell_type": "markdown",
   "metadata": {
    "id": "QlFBsxAr_Zct"
   },
   "source": [
    "Now let's delete the implicit duplicates in the column `genre`. For example, the name of the same genre can be spelled slightly differently. Such errors will also affect the result of the research."
   ]
  },
  {
   "cell_type": "markdown",
   "metadata": {
    "id": "eSjWwsOh_Zct"
   },
   "source": [
    "Let's display a list of unique genre names, sorted alphabetically. For this:\n",
    "* extract the desired dataframe column, \n",
    "* apply the sort method to it,\n",
    "* for a sorted column, call a method that will return unique values from the column."
   ]
  },
  {
   "cell_type": "code",
   "execution_count": 14,
   "metadata": {
    "id": "JIUcqzZN_Zct",
    "scrolled": true
   },
   "outputs": [
    {
     "name": "stdout",
     "output_type": "stream",
     "text": [
      "['acid' 'acoustic' 'action' 'adult' 'africa' 'afrikaans' 'alternative'\n",
      " 'alternativepunk' 'ambient' 'americana' 'animated' 'anime' 'arabesk'\n",
      " 'arabic' 'arena' 'argentinetango' 'art' 'audiobook' 'author' 'avantgarde'\n",
      " 'axé' 'baile' 'balkan' 'beats' 'bigroom' 'black' 'bluegrass' 'blues'\n",
      " 'bollywood' 'bossa' 'brazilian' 'breakbeat' 'breaks' 'broadway'\n",
      " 'cantautori' 'cantopop' 'canzone' 'caribbean' 'caucasian' 'celtic'\n",
      " 'chamber' 'chanson' 'children' 'chill' 'chinese' 'choral' 'christian'\n",
      " 'christmas' 'classical' 'classicmetal' 'club' 'colombian' 'comedy'\n",
      " 'conjazz' 'contemporary' 'country' 'cuban' 'dance' 'dancehall' 'dancepop'\n",
      " 'dark' 'death' 'deep' 'deutschrock' 'deutschspr' 'dirty' 'disco' 'dnb'\n",
      " 'documentary' 'downbeat' 'downtempo' 'drum' 'dub' 'dubstep' 'eastern'\n",
      " 'easy' 'electronic' 'electropop' 'emo' 'entehno' 'epicmetal' 'estrada'\n",
      " 'ethnic' 'eurofolk' 'european' 'experimental' 'extrememetal' 'fado'\n",
      " 'fairytail' 'film' 'fitness' 'flamenco' 'folk' 'folklore' 'folkmetal'\n",
      " 'folkrock' 'folktronica' 'forró' 'frankreich' 'französisch' 'french'\n",
      " 'funk' 'future' 'gangsta' 'garage' 'german' 'ghazal' 'gitarre' 'glitch'\n",
      " 'gospel' 'gothic' 'grime' 'grunge' 'gypsy' 'handsup' \"hard'n'heavy\"\n",
      " 'hardcore' 'hardstyle' 'hardtechno' 'hip' 'hip-hop' 'hiphop' 'historisch'\n",
      " 'holiday' 'hop' 'horror' 'house' 'hymn' 'idm' 'independent' 'indian'\n",
      " 'indie' 'indipop' 'industrial' 'inspirational' 'instrumental'\n",
      " 'international' 'irish' 'jam' 'japanese' 'jazz' 'jewish' 'jpop' 'jungle'\n",
      " 'k-pop' 'karadeniz' 'karaoke' 'kayokyoku' 'korean' 'laiko' 'latin'\n",
      " 'latino' 'leftfield' 'local' 'lounge' 'loungeelectronic' 'lovers'\n",
      " 'malaysian' 'mandopop' 'marschmusik' 'meditative' 'mediterranean'\n",
      " 'melodic' 'metal' 'metalcore' 'mexican' 'middle' 'minimal'\n",
      " 'miscellaneous' 'modern' 'mood' 'mpb' 'muslim' 'native' 'neoklassik'\n",
      " 'neue' 'new' 'newage' 'newwave' 'nu' 'nujazz' 'numetal' 'oceania' 'old'\n",
      " 'opera' 'orchestral' 'other' 'piano' 'podcasts' 'pop' 'popdance'\n",
      " 'popelectronic' 'popeurodance' 'poprussian' 'post' 'posthardcore'\n",
      " 'postrock' 'power' 'progmetal' 'progressive' 'psychedelic' 'punjabi'\n",
      " 'punk' 'quebecois' 'ragga' 'ram' 'rancheras' 'rap' 'rave' 'reggae'\n",
      " 'reggaeton' 'regional' 'relax' 'religious' 'retro' 'rhythm' 'rnb' 'rnr'\n",
      " 'rock' 'rockabilly' 'rockalternative' 'rockindie' 'rockother' 'romance'\n",
      " 'roots' 'ruspop' 'rusrap' 'rusrock' 'russian' 'salsa' 'samba' 'scenic'\n",
      " 'schlager' 'self' 'sertanejo' 'shanson' 'shoegazing' 'showtunes' 'singer'\n",
      " 'ska' 'skarock' 'slow' 'smooth' 'soft' 'soul' 'soulful' 'sound'\n",
      " 'soundtrack' 'southern' 'specialty' 'speech' 'spiritual' 'sport'\n",
      " 'stonerrock' 'surf' 'swing' 'synthpop' 'synthrock' 'sängerportrait'\n",
      " 'tango' 'tanzorchester' 'taraftar' 'tatar' 'tech' 'techno' 'teen'\n",
      " 'thrash' 'top' 'traditional' 'tradjazz' 'trance' 'tribal' 'trip'\n",
      " 'triphop' 'tropical' 'türk' 'türkçe' 'ukrrock' 'unknown' 'urban' 'uzbek'\n",
      " 'variété' 'vi' 'videogame' 'vocal' 'western' 'world' 'worldbeat' 'ïîï'\n",
      " 'электроника']\n"
     ]
    }
   ],
   "source": [
    "# view unique genre names\n",
    "df_genre = df['genre']\n",
    "df_sorted = df_genre.sort_values()\n",
    "df_sorted = df_sorted.unique()\n",
    "print(df_sorted)"
   ]
  },
  {
   "cell_type": "markdown",
   "metadata": {
    "id": "qej-Qmuo_Zct"
   },
   "source": [
    "\n",
    "Let's go through the list and find implicit duplicates of the name `hiphop`. These may be misspelled titles or alternative titles in the same genre.\n",
    "\n",
    "We can see the following implicit duplicates:\n",
    "* *hip*,\n",
    "* *hop*,\n",
    "* *hip-hop*.\n",
    "\n",
    "To clear the table from it, we write a function `replace_wrong_genres()` with two parameters: \n",
    "* `wrong_genres` — duplicates list,\n",
    "* `correct_genre` — string with correct value.\n",
    "\n",
    "The function should fix the column `genre` in the table `df`: replace each value from the list `wrong_genres` with value from `correct_genre`."
   ]
  },
  {
   "cell_type": "code",
   "execution_count": 15,
   "metadata": {
    "id": "ErNDkmns_Zct"
   },
   "outputs": [],
   "source": [
    "# the function to replace implicit duplicates\n",
    "def replace_wrong_genre(data, column, wrong_genres, correct_genres):\n",
    "    for wrong_genre in wrong_genres:\n",
    "        data[column] = data[column].replace(wrong_genre, correct_genres)\n",
    "    return data    "
   ]
  },
  {
   "cell_type": "markdown",
   "metadata": {
    "id": "aDoBJxbA_Zct"
   },
   "source": [
    "Call the fanction `replace_wrong_genres()` and pass it such arguments so that it eliminates implicit duplicates: instead of `hip`, `hop` and `hip-hop` tha table should have the value `hiphop`:"
   ]
  },
  {
   "cell_type": "code",
   "execution_count": 16,
   "metadata": {
    "id": "YN5i2hpmSo09"
   },
   "outputs": [],
   "source": [
    "# eliminate implicit hip-hop duplicates\n",
    "wrong_genres = ['hip', 'hop', 'hip-hop']\n",
    "correct_genres = 'hiphop'\n",
    "df = replace_wrong_genre(df, 'genre', wrong_genres, correct_genres)"
   ]
  },
  {
   "cell_type": "markdown",
   "metadata": {
    "id": "zQKF16_RG15m"
   },
   "source": [
    "Check that the wrong column values have been replaced:\n",
    "\n",
    "*   hip\n",
    "*   hop\n",
    "*   hip-hop\n",
    "\n",
    "Output a sorted list of unique column values `genre`:"
   ]
  },
  {
   "cell_type": "code",
   "execution_count": 17,
   "metadata": {
    "id": "wvixALnFG15m"
   },
   "outputs": [
    {
     "name": "stdout",
     "output_type": "stream",
     "text": [
      "['acid' 'acoustic' 'action' 'adult' 'africa' 'afrikaans' 'alternative'\n",
      " 'alternativepunk' 'ambient' 'americana' 'animated' 'anime' 'arabesk'\n",
      " 'arabic' 'arena' 'argentinetango' 'art' 'audiobook' 'author' 'avantgarde'\n",
      " 'axé' 'baile' 'balkan' 'beats' 'bigroom' 'black' 'bluegrass' 'blues'\n",
      " 'bollywood' 'bossa' 'brazilian' 'breakbeat' 'breaks' 'broadway'\n",
      " 'cantautori' 'cantopop' 'canzone' 'caribbean' 'caucasian' 'celtic'\n",
      " 'chamber' 'chanson' 'children' 'chill' 'chinese' 'choral' 'christian'\n",
      " 'christmas' 'classical' 'classicmetal' 'club' 'colombian' 'comedy'\n",
      " 'conjazz' 'contemporary' 'country' 'cuban' 'dance' 'dancehall' 'dancepop'\n",
      " 'dark' 'death' 'deep' 'deutschrock' 'deutschspr' 'dirty' 'disco' 'dnb'\n",
      " 'documentary' 'downbeat' 'downtempo' 'drum' 'dub' 'dubstep' 'eastern'\n",
      " 'easy' 'electronic' 'electropop' 'emo' 'entehno' 'epicmetal' 'estrada'\n",
      " 'ethnic' 'eurofolk' 'european' 'experimental' 'extrememetal' 'fado'\n",
      " 'fairytail' 'film' 'fitness' 'flamenco' 'folk' 'folklore' 'folkmetal'\n",
      " 'folkrock' 'folktronica' 'forró' 'frankreich' 'französisch' 'french'\n",
      " 'funk' 'future' 'gangsta' 'garage' 'german' 'ghazal' 'gitarre' 'glitch'\n",
      " 'gospel' 'gothic' 'grime' 'grunge' 'gypsy' 'handsup' \"hard'n'heavy\"\n",
      " 'hardcore' 'hardstyle' 'hardtechno' 'hiphop' 'historisch' 'holiday'\n",
      " 'horror' 'house' 'hymn' 'idm' 'independent' 'indian' 'indie' 'indipop'\n",
      " 'industrial' 'inspirational' 'instrumental' 'international' 'irish' 'jam'\n",
      " 'japanese' 'jazz' 'jewish' 'jpop' 'jungle' 'k-pop' 'karadeniz' 'karaoke'\n",
      " 'kayokyoku' 'korean' 'laiko' 'latin' 'latino' 'leftfield' 'local'\n",
      " 'lounge' 'loungeelectronic' 'lovers' 'malaysian' 'mandopop' 'marschmusik'\n",
      " 'meditative' 'mediterranean' 'melodic' 'metal' 'metalcore' 'mexican'\n",
      " 'middle' 'minimal' 'miscellaneous' 'modern' 'mood' 'mpb' 'muslim'\n",
      " 'native' 'neoklassik' 'neue' 'new' 'newage' 'newwave' 'nu' 'nujazz'\n",
      " 'numetal' 'oceania' 'old' 'opera' 'orchestral' 'other' 'piano' 'podcasts'\n",
      " 'pop' 'popdance' 'popelectronic' 'popeurodance' 'poprussian' 'post'\n",
      " 'posthardcore' 'postrock' 'power' 'progmetal' 'progressive' 'psychedelic'\n",
      " 'punjabi' 'punk' 'quebecois' 'ragga' 'ram' 'rancheras' 'rap' 'rave'\n",
      " 'reggae' 'reggaeton' 'regional' 'relax' 'religious' 'retro' 'rhythm'\n",
      " 'rnb' 'rnr' 'rock' 'rockabilly' 'rockalternative' 'rockindie' 'rockother'\n",
      " 'romance' 'roots' 'ruspop' 'rusrap' 'rusrock' 'russian' 'salsa' 'samba'\n",
      " 'scenic' 'schlager' 'self' 'sertanejo' 'shanson' 'shoegazing' 'showtunes'\n",
      " 'singer' 'ska' 'skarock' 'slow' 'smooth' 'soft' 'soul' 'soulful' 'sound'\n",
      " 'soundtrack' 'southern' 'specialty' 'speech' 'spiritual' 'sport'\n",
      " 'stonerrock' 'surf' 'swing' 'synthpop' 'synthrock' 'sängerportrait'\n",
      " 'tango' 'tanzorchester' 'taraftar' 'tatar' 'tech' 'techno' 'teen'\n",
      " 'thrash' 'top' 'traditional' 'tradjazz' 'trance' 'tribal' 'trip'\n",
      " 'triphop' 'tropical' 'türk' 'türkçe' 'ukrrock' 'unknown' 'urban' 'uzbek'\n",
      " 'variété' 'vi' 'videogame' 'vocal' 'western' 'world' 'worldbeat' 'ïîï'\n",
      " 'электроника']\n"
     ]
    }
   ],
   "source": [
    "# checking for implicit duplicates\n",
    "df_genre = df['genre']\n",
    "df_sorted = df_genre.sort_values()\n",
    "df_sorted = df_sorted.unique()\n",
    "print(df_sorted)"
   ]
  },
  {
   "cell_type": "markdown",
   "metadata": {
    "id": "jz6a9-7HQUDd"
   },
   "source": [
    "**Conclusions**\n",
    "\n",
    "Data preprocessing found three problems in the data:\n",
    "\n",
    "- header style violations,\n",
    "- missing values,\n",
    "- explicit and implicit duplicates.\n",
    "\n",
    "We've fixed the headers to make the table easier to work with. Without duplicates, the research will become more accurate.\n",
    "\n",
    "Missing values we replaced with `'unknown'`. It remains to be seen whether the missing values in the column `genre` will harm the research .\n",
    "\n",
    "Now we can move on to hypothesis testing. "
   ]
  },
  {
   "cell_type": "markdown",
   "metadata": {
    "id": "WttZHXH0SqKk"
   },
   "source": [
    "## Hypothesis testing"
   ]
  },
  {
   "cell_type": "markdown",
   "metadata": {
    "id": "Im936VVi_Zcu"
   },
   "source": [
    "### Comparation of user preferences in two capitals"
   ]
  },
  {
   "cell_type": "markdown",
   "metadata": {
    "id": "nwt_MuaL_Zcu"
   },
   "source": [
    "The first hypothesis states that users listen to music differently in Moscow and St. Petersburg. Let's check this hypothesis on the data on three days of the week - Monday, Wednesday and Friday. For this we need to:\n",
    "\n",
    "* separate users of Moscow and St. Petersburg\n",
    "* compare how many tracks each group of users listened to on Monday, Wednesday and Friday.\n"
   ]
  },
  {
   "cell_type": "markdown",
   "metadata": {
    "id": "8Dw_YMmT_Zcu"
   },
   "source": [
    "For training, we first perform each of the calculations separately. \n",
    "\n",
    "Let's evaluate the activity of users in each city. Let's group the data by city and count the plays in each group.\n",
    "\n"
   ]
  },
  {
   "cell_type": "code",
   "execution_count": 18,
   "metadata": {
    "id": "0_Qs96oh_Zcu"
   },
   "outputs": [
    {
     "name": "stdout",
     "output_type": "stream",
     "text": [
      "city\n",
      "Moscow              42741\n",
      "Saint-Petersburg    18512\n",
      "Name: city, dtype: int64\n"
     ]
    }
   ],
   "source": [
    "# counting plays in each city\n",
    "print(df.groupby('city')['city'].count())"
   ]
  },
  {
   "cell_type": "markdown",
   "metadata": {
    "id": "dzli3w8o_Zcu"
   },
   "source": [
    "There are more listenings in Moscow than in St. Petersburg. It does not follow from this that Moscow users listen to music more often. There are simply more users in Moscow.\n",
    "\n",
    "Now let's group the data by day of the week and count the plays on Monday, Wednesday, and Friday. It is necessary to take into account that the data contains information only about listening only for these days.\n"
   ]
  },
  {
   "cell_type": "code",
   "execution_count": 19,
   "metadata": {
    "id": "uZMKjiJz_Zcu"
   },
   "outputs": [
    {
     "name": "stdout",
     "output_type": "stream",
     "text": [
      "day\n",
      "Friday       21840\n",
      "Monday       21354\n",
      "Wednesday    18059\n",
      "Name: day, dtype: int64\n"
     ]
    }
   ],
   "source": [
    "# listening count for each of the three days\n",
    "print(df.groupby('day')['day'].count())"
   ]
  },
  {
   "cell_type": "markdown",
   "metadata": {
    "id": "cC2tNrlL_Zcu"
   },
   "source": [
    "On the average, users from the two cities are less active on Wednesdays. But everything can change if we consider each city separately. "
   ]
  },
  {
   "cell_type": "markdown",
   "metadata": {
    "id": "POzs8bGa_Zcu"
   },
   "source": [
    "Now write a function that will combine the following calculations.\n",
    "\n",
    "Create a function `number_tracks()`, which will calculate the listenings for a given day and city. It needs two parameters:\n",
    "* day of the week,\n",
    "* city.\n",
    "\n",
    "In the function, we save in a variable the rows of the source table that have the parameters:\n",
    "  * for the column `day` will be parametr `day`,\n",
    "  * for the column `city` will be parametr `city`.\n",
    "\n",
    "To do this, apply sequential filtering with logical indexing.\n",
    "\n",
    "Then we count the values in the `user_id` column of the resulting table. The result will be saved in a new variable. Return this variable from the function."
   ]
  },
  {
   "cell_type": "code",
   "execution_count": 20,
   "metadata": {
    "id": "Nz3GdQB1_Zcu"
   },
   "outputs": [],
   "source": [
    "# <creating the function number_tracks()>\n",
    "# Declaring a function with two parameters: day, city.\n",
    "# The track_list variable saves those rows of the df table for which \n",
    "# the value in the 'day' column is equal to the day parameter and at the same time the value\n",
    "# in the 'city' column is equal to the city parameter (use sequential filtering with logical indexing).\n",
    "# The variable track_list_count saves the number of column values 'user_id',\n",
    "# calculated by the count() method for the table track_list.\n",
    "# The function returns a number which is the value of track_list_count.\n",
    "\n",
    "# Function for counting listenings for a specific city and day.\n",
    "# With using sequential filtering with logical indexing\n",
    "# it will first get the rows with the desired day from the source table,\n",
    "# then from the result it will filter the rows with the desired city,\n",
    "# the count() method will count the number of values in the user_id column. \n",
    "# The function will return this number as a result.\n",
    "def number_tracks(day, city):\n",
    "    track_list = df[df['day'] == day]\n",
    "    track_list = track_list[track_list['city'] == city]\n",
    "    track_list_count = track_list['user_id'].count()\n",
    "    return track_list_count"
   ]
  },
  {
   "cell_type": "markdown",
   "metadata": {
    "id": "ytf7xFrFJQ2r"
   },
   "source": [
    "Let's call `number_tracks()` six times, changing the value of the parameters so that we get data for each city on each of the three days."
   ]
  },
  {
   "cell_type": "code",
   "execution_count": 21,
   "metadata": {
    "id": "rJcRATNQ_Zcu",
    "scrolled": false
   },
   "outputs": [],
   "source": [
    "# amount of listenings in Moscow on Mondays\n",
    "track_list_moscow_monday = number_tracks('Monday', 'Moscow')"
   ]
  },
  {
   "cell_type": "code",
   "execution_count": 22,
   "metadata": {
    "id": "hq_ncZ5T_Zcu"
   },
   "outputs": [],
   "source": [
    "# amount of listenings in Saint Petersburg on Mondays\n",
    "track_list_spb_monday = number_tracks('Monday', 'Saint-Petersburg')"
   ]
  },
  {
   "cell_type": "code",
   "execution_count": 23,
   "metadata": {
    "id": "_NTy2VPU_Zcu"
   },
   "outputs": [],
   "source": [
    "# amount of listenings in Moscow on Wednesdays\n",
    "track_list_moscow_wednesday = number_tracks('Wednesday', 'Moscow')"
   ]
  },
  {
   "cell_type": "code",
   "execution_count": 24,
   "metadata": {
    "id": "j2y3TAwo_Zcu"
   },
   "outputs": [],
   "source": [
    "# amount of listenings in Saint Petersburg on Wednesdays\n",
    "track_list_spb_wednesday = number_tracks('Wednesday', 'Saint-Petersburg')"
   ]
  },
  {
   "cell_type": "code",
   "execution_count": 25,
   "metadata": {
    "id": "vYDw5u_K_Zcu"
   },
   "outputs": [],
   "source": [
    "# amount of listenings in Moscow on Fridays\n",
    "track_list_moscow_friday = number_tracks('Friday', 'Moscow')"
   ]
  },
  {
   "cell_type": "code",
   "execution_count": 26,
   "metadata": {
    "id": "8_yzFtW3_Zcu"
   },
   "outputs": [],
   "source": [
    "# amount of listenings in Saint Petersburg on Fridays\n",
    "track_list_spb_friday = number_tracks('Friday', 'Saint-Petersburg')"
   ]
  },
  {
   "cell_type": "markdown",
   "metadata": {
    "id": "7QXffbO-_Zcu"
   },
   "source": [
    "Let's create a table using the `pd.DataFrame` constructor, where\n",
    "* column names are `['city', 'monday', 'wednesday', 'friday']`;\n",
    "* values are the results which we got with `number_tracks`."
   ]
  },
  {
   "cell_type": "code",
   "execution_count": 27,
   "metadata": {
    "id": "APAcLpOr_Zcu"
   },
   "outputs": [
    {
     "data": {
      "text/html": [
       "<div>\n",
       "<style scoped>\n",
       "    .dataframe tbody tr th:only-of-type {\n",
       "        vertical-align: middle;\n",
       "    }\n",
       "\n",
       "    .dataframe tbody tr th {\n",
       "        vertical-align: top;\n",
       "    }\n",
       "\n",
       "    .dataframe thead th {\n",
       "        text-align: right;\n",
       "    }\n",
       "</style>\n",
       "<table border=\"1\" class=\"dataframe\">\n",
       "  <thead>\n",
       "    <tr style=\"text-align: right;\">\n",
       "      <th></th>\n",
       "      <th>city</th>\n",
       "      <th>monday</th>\n",
       "      <th>wednesday</th>\n",
       "      <th>friday</th>\n",
       "    </tr>\n",
       "  </thead>\n",
       "  <tbody>\n",
       "    <tr>\n",
       "      <td>0</td>\n",
       "      <td>Moscow</td>\n",
       "      <td>15740</td>\n",
       "      <td>11056</td>\n",
       "      <td>15945</td>\n",
       "    </tr>\n",
       "    <tr>\n",
       "      <td>1</td>\n",
       "      <td>Saint-Petersburg</td>\n",
       "      <td>5614</td>\n",
       "      <td>7003</td>\n",
       "      <td>5895</td>\n",
       "    </tr>\n",
       "  </tbody>\n",
       "</table>\n",
       "</div>"
      ],
      "text/plain": [
       "               city  monday  wednesday  friday\n",
       "0            Moscow   15740      11056   15945\n",
       "1  Saint-Petersburg    5614       7003    5895"
      ]
     },
     "metadata": {},
     "output_type": "display_data"
    }
   ],
   "source": [
    "# Results table\n",
    "columns = ['city', 'monday', 'wednesday', 'friday']\n",
    "data = [\n",
    "    ['Moscow', track_list_moscow_monday, track_list_moscow_wednesday, track_list_moscow_friday],\n",
    "    ['Saint-Petersburg', track_list_spb_monday, track_list_spb_wednesday, track_list_spb_friday]\n",
    "]\n",
    "track_list_city_day = pd.DataFrame(data=data, columns=columns)\n",
    "display(track_list_city_day)"
   ]
  },
  {
   "cell_type": "markdown",
   "metadata": {
    "id": "-EgPIHYu_Zcu"
   },
   "source": [
    "**Conclusions**\n",
    "\n",
    "\n",
    "Data shows the difference in user preferences:\n",
    "\n",
    "- In Moscow, the peak of listening falls on Monday and Friday, and on Wednesday there is a noticeable decline.\n",
    "- In St. Petersburg, on the contrary, people listen to music more on Wednesdays. Activity on Monday and Friday here is almost equally less than in the Wednesday.\n",
    "\n",
    "So the data support the first hypothesis."
   ]
  },
  {
   "cell_type": "markdown",
   "metadata": {
    "id": "atZAxtq4_Zcu"
   },
   "source": [
    "### Listenings at the beginning and end of the week"
   ]
  },
  {
   "cell_type": "markdown",
   "metadata": {
    "id": "eXrQqXFH_Zcu"
   },
   "source": [
    "According to the second hypothesis, on Monday morning certain genres predominate in Moscow, while others dominate in St. Petersburg. Similarly, Friday nights are dominated by different genres, depending on the city."
   ]
  },
  {
   "cell_type": "markdown",
   "metadata": {
    "id": "S8UcW6Hw_Zcu"
   },
   "source": [
    "Save tables with data in two variables:\n",
    "* data in Moscow are in a variable `moscow_general`;\n",
    "* data in Saint Petersburg are in a variable `spb_general`."
   ]
  },
  {
   "cell_type": "code",
   "execution_count": 28,
   "metadata": {
    "id": "qeaFfM_P_Zcu"
   },
   "outputs": [],
   "source": [
    "# getting moscow_general table from those df table rows, \n",
    "# for which the value in the 'city' column is 'Moscow'\n",
    "moscow_general = df[df['city'] == 'Moscow']"
   ]
  },
  {
   "cell_type": "code",
   "execution_count": 29,
   "metadata": {
    "id": "ORaVRKto_Zcu"
   },
   "outputs": [],
   "source": [
    "# getting spb_general table from those df table rows,\n",
    "# for which the value in the 'city' column is 'Saint-Petersburg'\n",
    "spb_general = df[df['city'] == 'Saint-Petersburg']"
   ]
  },
  {
   "cell_type": "markdown",
   "metadata": {
    "id": "MEJV-CX2_Zcu"
   },
   "source": [
    "Create a `genre_weekday()` function with four parameters:\n",
    "* table (dataframe) with data,\n",
    "* day of the week,\n",
    "* initial timestamp in 'hh:mm' format, \n",
    "* last timestamp in 'hh:mm' format.\n",
    "\n",
    "\n",
    "The function should return information about the top 10 genres of those tracks that were listened to on the specified day, in the interval between two timestamps."
   ]
  },
  {
   "cell_type": "code",
   "execution_count": 30,
   "metadata": {
    "id": "laJT9BYl_Zcu"
   },
   "outputs": [],
   "source": [
    "# Declaring genre_weekday() function with table, day, time1, time2 parameters,\n",
    "# which returns information about the most popular genres on a given day at a given time:\n",
    "# 1) the genre_df variable saves those rows of the passed dataframe table, for which at the same time:\n",
    "#    - the value in the day column is equal to the value of the day argument\n",
    "#    - the value in the time column is greater than the value of the time1 argument\n",
    "#    - the value in the time column is less than the value of the time2 argument\n",
    "#    Use the sequential filtering with logical indexing.\n",
    "# 2) group genre_df dataframe by genre column, take one of its\n",
    "#    columns and use the count() method to calculate the number of records for each of\n",
    "#    present genres, write the resulting Series to the genre_df_count variable\n",
    "# 3) sort genre_df_count in descending order of occurrence and store in the variable genre_df_sorted\n",
    "# 4) return a Series of the first 10 genre_df_sorted values, these will be the top 10\n",
    "#    popular genres (on a specified day, at a specified time)\n",
    "def genre_weekday(table, day, time1, time2):\n",
    "    genre_df = table[table['day'] == day]\n",
    "    genre_df = genre_df[genre_df['time'] > time1]\n",
    "    genre_df = genre_df[genre_df['time'] < time2]\n",
    "    genre_df_count = genre_df.groupby('genre')['user_id'].count()\n",
    "    genre_df_sorted = genre_df_count.sort_values(ascending=False)\n",
    "    return genre_df_sorted.head(10)"
   ]
  },
  {
   "cell_type": "markdown",
   "metadata": {
    "id": "la2s2_PF_Zcu"
   },
   "source": [
    "Compare the results of the `genre_weekday()` function for Moscow and St. Petersburg on Monday morning (from 7:00 to 11:00) and Friday evening (from 17:00 to 23:00):"
   ]
  },
  {
   "cell_type": "code",
   "execution_count": 31,
   "metadata": {
    "id": "yz7itPUQ_Zcu"
   },
   "outputs": [
    {
     "name": "stdout",
     "output_type": "stream",
     "text": [
      "genre\n",
      "pop            781\n",
      "dance          549\n",
      "electronic     480\n",
      "rock           474\n",
      "hiphop         286\n",
      "ruspop         186\n",
      "world          181\n",
      "rusrap         175\n",
      "alternative    164\n",
      "unknown        161\n",
      "Name: user_id, dtype: int64\n"
     ]
    }
   ],
   "source": [
    "# function call for Monday morning in Moscow (instead of df we use moscow_general table)\n",
    "# time objects are strings and are compared as strings\n",
    "genre_moscow_monday = genre_weekday(moscow_general, 'Monday', '07:00', '11:00')\n",
    "print(genre_moscow_monday)"
   ]
  },
  {
   "cell_type": "code",
   "execution_count": 32,
   "metadata": {
    "id": "kwUcHPdy_Zcu",
    "scrolled": true
   },
   "outputs": [
    {
     "name": "stdout",
     "output_type": "stream",
     "text": [
      "genre\n",
      "pop            218\n",
      "dance          182\n",
      "rock           162\n",
      "electronic     147\n",
      "hiphop          80\n",
      "ruspop          64\n",
      "alternative     58\n",
      "rusrap          55\n",
      "jazz            44\n",
      "classical       40\n",
      "Name: user_id, dtype: int64\n"
     ]
    }
   ],
   "source": [
    "# function call for Monday morning in St. Petersburg (instead of df we use spb_general table)\n",
    "genre_spb_monday = genre_weekday(spb_general, 'Monday', '07:00', '11:00')\n",
    "print(genre_spb_monday)"
   ]
  },
  {
   "cell_type": "code",
   "execution_count": 33,
   "metadata": {
    "id": "EzXVRE1o_Zcu",
    "scrolled": true
   },
   "outputs": [
    {
     "name": "stdout",
     "output_type": "stream",
     "text": [
      "genre\n",
      "pop            713\n",
      "rock           517\n",
      "dance          495\n",
      "electronic     482\n",
      "hiphop         273\n",
      "world          208\n",
      "ruspop         170\n",
      "alternative    163\n",
      "classical      163\n",
      "rusrap         142\n",
      "Name: user_id, dtype: int64\n"
     ]
    }
   ],
   "source": [
    "# function call for Friday evening in Moscow\n",
    "genre_moscow_friday = genre_weekday(moscow_general, 'Friday', '17:00', '23:00')\n",
    "print(genre_moscow_friday)"
   ]
  },
  {
   "cell_type": "code",
   "execution_count": 34,
   "metadata": {
    "id": "JZaEKu5v_Zcu"
   },
   "outputs": [
    {
     "name": "stdout",
     "output_type": "stream",
     "text": [
      "genre\n",
      "pop            256\n",
      "rock           216\n",
      "electronic     216\n",
      "dance          210\n",
      "hiphop          97\n",
      "alternative     63\n",
      "jazz            61\n",
      "classical       60\n",
      "rusrap          59\n",
      "world           54\n",
      "Name: user_id, dtype: int64\n"
     ]
    }
   ],
   "source": [
    "# function call for Friday evening in St. Petersburg\n",
    "genre_spb_friday = genre_weekday(spb_general, 'Friday', '17:00', '23:00')\n",
    "print(genre_spb_friday)"
   ]
  },
  {
   "cell_type": "markdown",
   "metadata": {
    "id": "wrCe4MNX_Zcu"
   },
   "source": [
    "**Conclusions**\n",
    "\n",
    "If we compare the top 10 genres on Monday morning, we can draw the following conclusions:\n",
    "\n",
    "1. In Moscow and St. Petersburg people listen to similar music. The only difference is that the Moscow rating includes the “world” genre, while the St. Petersburg rating includes jazz and classical music.\n",
    "\n",
    "2. There were so many missing values in Moscow that the value `'unknown'` took the tenth place among the most popular genres. This means that missing values occupy a significant share in the data and threaten the reliability of the research.\n",
    "\n",
    "Friday night does not change this conclusions. Some genres rise a little higher, others go down, but overall the top 10 stays the same.\n",
    "\n",
    "Thus, the second hypothesis was only partially confirmed:\n",
    "* Users listen to similar music at the beginning of the week and at the end.\n",
    "* The difference between Moscow and St. Petersburg is not very pronounced. In Moscow, people listen to Russian popular music more often, in St. Petersburg people listen to jazz.\n",
    "\n",
    "However, missing values in the data cast doubt on this result. There are so many of them in Moscow that the top 10 ranking could look different if it were not for the lost genre data."
   ]
  },
  {
   "cell_type": "markdown",
   "metadata": {
    "id": "JolODAqr_Zcu"
   },
   "source": [
    "### Genre preferences in Moscow and St. Petersburg\n",
    "\n",
    "Let's put forward a hypothesis: Petersburg is the capital of rap, the music of this genre is listened to there more often than in Moscow. And Moscow is a city of contrasts, in which, nevertheless, pop music prevails."
   ]
  },
  {
   "cell_type": "markdown",
   "metadata": {
    "id": "DlegSvaT_Zcu"
   },
   "source": [
    "Let's group the `moscow_general` table by genre and count the listens of tracks of each genre using the `count()` method. Then we sort the result in descending order and save it in the `moscow_genres` table."
   ]
  },
  {
   "cell_type": "code",
   "execution_count": 35,
   "metadata": {
    "id": "r19lIPke_Zcu"
   },
   "outputs": [],
   "source": [
    "# in one line: grouping the moscow_general table by the 'genre' column, \n",
    "# counting the number of 'genre' values in this grouping using the count() method, \n",
    "# sorting the resulting Series in descending order and saving it to moscow_genres\n",
    "moscow_genres = moscow_general.groupby('genre')['genre'].count().sort_values(ascending=False)"
   ]
  },
  {
   "cell_type": "markdown",
   "metadata": {
    "id": "6kMuomxTiIr8"
   },
   "source": [
    "Display the first ten lines of `moscow_genres`:"
   ]
  },
  {
   "cell_type": "code",
   "execution_count": 36,
   "metadata": {
    "id": "WhCSooF8_Zcv",
    "scrolled": true
   },
   "outputs": [
    {
     "name": "stdout",
     "output_type": "stream",
     "text": [
      "genre\n",
      "pop            5892\n",
      "dance          4435\n",
      "rock           3965\n",
      "electronic     3786\n",
      "hiphop         2096\n",
      "classical      1616\n",
      "world          1432\n",
      "alternative    1379\n",
      "ruspop         1372\n",
      "rusrap         1161\n",
      "Name: genre, dtype: int64\n"
     ]
    }
   ],
   "source": [
    "# view the first 10 lines of moscow_genres\n",
    "print(moscow_genres.head(10))"
   ]
  },
  {
   "cell_type": "markdown",
   "metadata": {
    "id": "cnPG2vnN_Zcv"
   },
   "source": [
    "Now let's repeat the same for St. Petersburg.\n",
    "\n",
    "Let's group the `spb_general` table by genre. Let's count listening to tracks of each genre. Sort the result in descending order and save it in the `spb_genres` table:\n"
   ]
  },
  {
   "cell_type": "code",
   "execution_count": 37,
   "metadata": {
    "id": "gluLIpE7_Zcv"
   },
   "outputs": [],
   "source": [
    "# in one line: group spb_general table by 'genre' column, \n",
    "# counting the number of 'genre' values in this grouping using the count() method, \n",
    "# sorting the resulting Series in descending order and saving it to spb_genres\n",
    "spb_genres = spb_general.groupby('genre')['genre'].count().sort_values(ascending=False)"
   ]
  },
  {
   "cell_type": "markdown",
   "metadata": {
    "id": "5Doha_ODgyQ8"
   },
   "source": [
    "Display the first ten lines of `spb_genres`:"
   ]
  },
  {
   "cell_type": "code",
   "execution_count": 38,
   "metadata": {
    "id": "uaGJHjVU_Zcv",
    "scrolled": true
   },
   "outputs": [
    {
     "name": "stdout",
     "output_type": "stream",
     "text": [
      "genre\n",
      "pop            2431\n",
      "dance          1932\n",
      "rock           1879\n",
      "electronic     1736\n",
      "hiphop          960\n",
      "alternative     649\n",
      "classical       646\n",
      "rusrap          564\n",
      "ruspop          538\n",
      "world           515\n",
      "Name: genre, dtype: int64\n"
     ]
    }
   ],
   "source": [
    "# view the first 10 lines of spb_genres\n",
    "print(spb_genres.head(10))"
   ]
  },
  {
   "cell_type": "markdown",
   "metadata": {
    "id": "RY51YJYu_Zcv"
   },
   "source": [
    "**Conclusions**"
   ]
  },
  {
   "cell_type": "markdown",
   "metadata": {
    "id": "nVhnJEm__Zcv"
   },
   "source": [
    "The hypothesis was partially confirmed:\n",
    "* Pop music is the most popular genre in Moscow, as the hypothesis suggested. Moreover, in the top 10 genres there is a similar genre. It is a Russian popular music.\n",
    "* Contrary to expectations, rap is equally popular in Moscow and St. Petersburg. \n"
   ]
  },
  {
   "cell_type": "markdown",
   "metadata": {
    "id": "ykKQ0N65_Zcv"
   },
   "source": [
    "## Research results"
   ]
  },
  {
   "cell_type": "markdown",
   "metadata": {
    "id": "tjUwbHb3_Zcv"
   },
   "source": [
    "We tested three hypotheses and found:\n",
    "\n",
    "1. The day of the week affects the activity of users in Moscow and St. Petersburg differently. \n",
    "\n",
    "The first hypothesis was fully confirmed.\n",
    "\n",
    "2. Musical preferences do not change much during the week in Moscow or St. Petersburg. Small differences are noticeable at the beginning of the week, on Mondays:\n",
    "* people in Moscow listen to world music,\n",
    "* people in Saint Petersburg listen to jazz and classical.\n",
    "\n",
    "Thus, the second hypothesis was only partly confirmed. This result could have been different were it not for missimg values in the data.\n",
    "\n",
    "3. The tastes of users in Moscow and St. Petersburg have more in common than differences. Contrary to expectations, genre preferences in St. Petersburg resemble those in Moscow.\n",
    "\n",
    "The third hypothesis was not confirmed. If there are differences in preferences, they are invisible to the majority of users.\n"
   ]
  },
  {
   "cell_type": "code",
   "execution_count": null,
   "metadata": {},
   "outputs": [],
   "source": []
  }
 ],
 "metadata": {
  "ExecuteTimeLog": [
   {
    "duration": 569,
    "start_time": "2021-12-12T12:47:49.795Z"
   },
   {
    "duration": 131,
    "start_time": "2021-12-12T12:49:45.977Z"
   },
   {
    "duration": 19,
    "start_time": "2021-12-12T12:50:29.988Z"
   },
   {
    "duration": 23,
    "start_time": "2021-12-12T12:50:54.687Z"
   },
   {
    "duration": 25,
    "start_time": "2021-12-12T12:51:10.649Z"
   },
   {
    "duration": 24,
    "start_time": "2021-12-12T12:51:21.793Z"
   },
   {
    "duration": 676,
    "start_time": "2021-12-12T19:23:38.764Z"
   },
   {
    "duration": 138,
    "start_time": "2021-12-12T19:23:41.532Z"
   },
   {
    "duration": 18,
    "start_time": "2021-12-12T19:23:57.222Z"
   },
   {
    "duration": 25,
    "start_time": "2021-12-12T19:24:10.511Z"
   },
   {
    "duration": 5,
    "start_time": "2021-12-12T19:24:51.255Z"
   },
   {
    "duration": 20,
    "start_time": "2021-12-12T19:28:33.676Z"
   },
   {
    "duration": 5,
    "start_time": "2021-12-12T19:28:35.596Z"
   },
   {
    "duration": 24,
    "start_time": "2021-12-12T19:30:14.734Z"
   },
   {
    "duration": 18,
    "start_time": "2021-12-12T19:35:12.212Z"
   },
   {
    "duration": 23,
    "start_time": "2021-12-12T19:35:14.372Z"
   },
   {
    "duration": 109,
    "start_time": "2021-12-12T19:36:10.909Z"
   },
   {
    "duration": 779,
    "start_time": "2021-12-12T19:36:16.245Z"
   },
   {
    "duration": 67,
    "start_time": "2021-12-12T19:36:26.592Z"
   },
   {
    "duration": 68,
    "start_time": "2021-12-12T19:38:17.445Z"
   },
   {
    "duration": 51,
    "start_time": "2021-12-12T19:38:36.093Z"
   },
   {
    "duration": 387,
    "start_time": "2021-12-12T19:46:10.520Z"
   },
   {
    "duration": 48,
    "start_time": "2021-12-12T19:46:21.205Z"
   },
   {
    "duration": 3,
    "start_time": "2021-12-12T19:54:23.105Z"
   },
   {
    "duration": 336,
    "start_time": "2021-12-12T19:56:41.945Z"
   },
   {
    "duration": 816,
    "start_time": "2021-12-12T19:56:55.459Z"
   },
   {
    "duration": 3,
    "start_time": "2021-12-12T19:57:12.215Z"
   },
   {
    "duration": 11,
    "start_time": "2021-12-12T19:57:15.852Z"
   },
   {
    "duration": 48,
    "start_time": "2021-12-12T19:57:49.920Z"
   },
   {
    "duration": 366,
    "start_time": "2021-12-12T20:06:24.328Z"
   },
   {
    "duration": 11,
    "start_time": "2021-12-12T20:09:07.051Z"
   },
   {
    "duration": 11,
    "start_time": "2021-12-12T20:11:06.639Z"
   },
   {
    "duration": 3,
    "start_time": "2021-12-12T20:18:19.490Z"
   },
   {
    "duration": 176,
    "start_time": "2021-12-12T20:21:58.279Z"
   },
   {
    "duration": 4,
    "start_time": "2021-12-12T20:22:17.300Z"
   },
   {
    "duration": 3,
    "start_time": "2021-12-12T20:23:26.560Z"
   },
   {
    "duration": -513,
    "start_time": "2021-12-12T20:23:55.178Z"
   },
   {
    "duration": 10014,
    "start_time": "2021-12-12T20:23:58.063Z"
   },
   {
    "duration": 350,
    "start_time": "2021-12-12T20:26:51.449Z"
   },
   {
    "duration": 340,
    "start_time": "2021-12-12T20:27:21.371Z"
   },
   {
    "duration": 392,
    "start_time": "2021-12-12T20:32:30.065Z"
   },
   {
    "duration": 634,
    "start_time": "2021-12-12T20:33:17.972Z"
   },
   {
    "duration": 10168,
    "start_time": "2021-12-12T20:38:01.086Z"
   },
   {
    "duration": 338,
    "start_time": "2021-12-12T20:39:42.159Z"
   },
   {
    "duration": 4,
    "start_time": "2021-12-12T20:42:04.352Z"
   },
   {
    "duration": 345,
    "start_time": "2021-12-12T20:42:07.733Z"
   },
   {
    "duration": 4,
    "start_time": "2021-12-12T20:46:50.333Z"
   },
   {
    "duration": 397,
    "start_time": "2021-12-12T20:46:54.044Z"
   },
   {
    "duration": 3,
    "start_time": "2021-12-12T20:49:29.667Z"
   },
   {
    "duration": 554,
    "start_time": "2021-12-12T20:49:37.323Z"
   },
   {
    "duration": 40,
    "start_time": "2021-12-12T20:52:41.425Z"
   },
   {
    "duration": 4,
    "start_time": "2021-12-12T20:55:12.945Z"
   },
   {
    "duration": 4,
    "start_time": "2021-12-12T20:55:16.477Z"
   },
   {
    "duration": 5,
    "start_time": "2021-12-12T20:57:02.518Z"
   },
   {
    "duration": 22,
    "start_time": "2021-12-12T20:57:06.023Z"
   },
   {
    "duration": 4,
    "start_time": "2021-12-12T20:58:02.369Z"
   },
   {
    "duration": 14,
    "start_time": "2021-12-12T20:58:05.564Z"
   },
   {
    "duration": 3,
    "start_time": "2021-12-12T20:58:45.861Z"
   },
   {
    "duration": 17,
    "start_time": "2021-12-12T20:58:48.495Z"
   },
   {
    "duration": 3,
    "start_time": "2021-12-12T20:59:33.320Z"
   },
   {
    "duration": 26,
    "start_time": "2021-12-12T20:59:35.543Z"
   },
   {
    "duration": 4,
    "start_time": "2021-12-12T21:00:56.374Z"
   },
   {
    "duration": 27,
    "start_time": "2021-12-12T21:01:00.170Z"
   },
   {
    "duration": 4,
    "start_time": "2021-12-12T21:01:33.174Z"
   },
   {
    "duration": 15,
    "start_time": "2021-12-12T21:01:35.663Z"
   },
   {
    "duration": 17,
    "start_time": "2021-12-12T21:02:25.937Z"
   },
   {
    "duration": 14,
    "start_time": "2021-12-12T21:04:02.698Z"
   },
   {
    "duration": 15,
    "start_time": "2021-12-12T21:05:00.300Z"
   },
   {
    "duration": 14,
    "start_time": "2021-12-12T21:05:41.068Z"
   },
   {
    "duration": 16,
    "start_time": "2021-12-12T21:06:18.230Z"
   },
   {
    "duration": 15,
    "start_time": "2021-12-12T21:07:01.502Z"
   },
   {
    "duration": 16,
    "start_time": "2021-12-12T21:07:46.755Z"
   },
   {
    "duration": 15,
    "start_time": "2021-12-12T21:07:48.830Z"
   },
   {
    "duration": 14,
    "start_time": "2021-12-12T21:07:57.332Z"
   },
   {
    "duration": 15,
    "start_time": "2021-12-12T21:08:04.901Z"
   },
   {
    "duration": 16,
    "start_time": "2021-12-12T21:08:11.752Z"
   },
   {
    "duration": 16,
    "start_time": "2021-12-12T21:08:23.239Z"
   },
   {
    "duration": 114,
    "start_time": "2021-12-12T21:11:16.905Z"
   },
   {
    "duration": 14,
    "start_time": "2021-12-12T21:11:22.259Z"
   },
   {
    "duration": 15,
    "start_time": "2021-12-12T21:12:13.789Z"
   },
   {
    "duration": 147,
    "start_time": "2021-12-12T21:12:57.251Z"
   },
   {
    "duration": 16,
    "start_time": "2021-12-12T21:13:00.554Z"
   },
   {
    "duration": 14,
    "start_time": "2021-12-12T21:13:30.286Z"
   },
   {
    "duration": 17,
    "start_time": "2021-12-12T21:14:01.525Z"
   },
   {
    "duration": 18,
    "start_time": "2021-12-12T21:14:26.188Z"
   },
   {
    "duration": 9,
    "start_time": "2021-12-12T21:18:44.821Z"
   },
   {
    "duration": 11,
    "start_time": "2021-12-12T21:19:59.367Z"
   },
   {
    "duration": 29,
    "start_time": "2021-12-12T21:21:57.572Z"
   },
   {
    "duration": 12,
    "start_time": "2021-12-12T21:22:13.832Z"
   },
   {
    "duration": 361,
    "start_time": "2021-12-12T21:23:14.023Z"
   },
   {
    "duration": 13,
    "start_time": "2021-12-12T21:23:21.848Z"
   },
   {
    "duration": 13,
    "start_time": "2021-12-12T21:23:24.697Z"
   },
   {
    "duration": 13,
    "start_time": "2021-12-12T21:23:27.472Z"
   },
   {
    "duration": 9,
    "start_time": "2021-12-12T21:23:30.546Z"
   },
   {
    "duration": 18,
    "start_time": "2021-12-12T21:24:22.461Z"
   },
   {
    "duration": 11,
    "start_time": "2021-12-12T21:24:32.671Z"
   },
   {
    "duration": 5,
    "start_time": "2021-12-12T21:32:47.109Z"
   },
   {
    "duration": 720,
    "start_time": "2021-12-12T21:33:09.915Z"
   },
   {
    "duration": 5,
    "start_time": "2021-12-12T21:33:24.099Z"
   },
   {
    "duration": 735,
    "start_time": "2021-12-12T21:33:27.396Z"
   },
   {
    "duration": 5,
    "start_time": "2021-12-12T21:33:43.517Z"
   },
   {
    "duration": 19,
    "start_time": "2021-12-12T21:33:46.979Z"
   },
   {
    "duration": 534,
    "start_time": "2021-12-12T21:35:06.996Z"
   },
   {
    "duration": 17,
    "start_time": "2021-12-12T21:35:11.652Z"
   },
   {
    "duration": 17,
    "start_time": "2021-12-12T21:36:01.406Z"
   },
   {
    "duration": 19,
    "start_time": "2021-12-12T21:44:40.174Z"
   },
   {
    "duration": 18,
    "start_time": "2021-12-12T21:45:23.204Z"
   },
   {
    "duration": 16,
    "start_time": "2021-12-12T21:45:54.024Z"
   },
   {
    "duration": 12,
    "start_time": "2021-12-12T21:46:24.482Z"
   },
   {
    "duration": 13,
    "start_time": "2021-12-12T21:49:43.402Z"
   },
   {
    "duration": 439,
    "start_time": "2021-12-12T21:49:47.225Z"
   },
   {
    "duration": 362,
    "start_time": "2021-12-12T21:50:44.665Z"
   },
   {
    "duration": 9,
    "start_time": "2021-12-12T21:54:31.561Z"
   },
   {
    "duration": 4,
    "start_time": "2021-12-12T21:55:14.261Z"
   },
   {
    "duration": 4801,
    "start_time": "2021-12-12T21:56:31.315Z"
   },
   {
    "duration": 4864,
    "start_time": "2021-12-12T22:01:48.853Z"
   },
   {
    "duration": 4530,
    "start_time": "2021-12-12T22:02:17.148Z"
   },
   {
    "duration": 6,
    "start_time": "2021-12-12T22:03:33.792Z"
   },
   {
    "duration": 4,
    "start_time": "2021-12-12T22:04:04.626Z"
   },
   {
    "duration": 3,
    "start_time": "2021-12-12T22:07:41.607Z"
   },
   {
    "duration": 151,
    "start_time": "2021-12-12T22:07:44.273Z"
   },
   {
    "duration": 10,
    "start_time": "2021-12-12T22:07:46.981Z"
   },
   {
    "duration": 24,
    "start_time": "2021-12-12T22:07:51.919Z"
   },
   {
    "duration": 4,
    "start_time": "2021-12-12T22:07:57.512Z"
   },
   {
    "duration": 21,
    "start_time": "2021-12-12T22:08:02.113Z"
   },
   {
    "duration": 4,
    "start_time": "2021-12-12T22:08:04.534Z"
   },
   {
    "duration": 23,
    "start_time": "2021-12-12T22:08:08.717Z"
   },
   {
    "duration": 17,
    "start_time": "2021-12-12T22:08:11.915Z"
   },
   {
    "duration": 22,
    "start_time": "2021-12-12T22:08:14.412Z"
   },
   {
    "duration": 54,
    "start_time": "2021-12-12T22:08:18.734Z"
   },
   {
    "duration": 62,
    "start_time": "2021-12-12T22:08:23.195Z"
   },
   {
    "duration": 48,
    "start_time": "2021-12-12T22:08:25.479Z"
   },
   {
    "duration": 38,
    "start_time": "2021-12-12T22:08:29.106Z"
   },
   {
    "duration": 3,
    "start_time": "2021-12-12T22:08:55.415Z"
   },
   {
    "duration": 12,
    "start_time": "2021-12-12T22:09:00.676Z"
   },
   {
    "duration": 5499,
    "start_time": "2021-12-12T22:09:13.229Z"
   },
   {
    "duration": 4572,
    "start_time": "2021-12-12T22:10:05.221Z"
   },
   {
    "duration": 4953,
    "start_time": "2021-12-12T22:10:42.684Z"
   },
   {
    "duration": 5131,
    "start_time": "2021-12-12T22:12:32.650Z"
   },
   {
    "duration": 3,
    "start_time": "2021-12-12T22:14:41.517Z"
   },
   {
    "duration": 142,
    "start_time": "2021-12-12T22:14:43.539Z"
   },
   {
    "duration": 10,
    "start_time": "2021-12-12T22:14:45.567Z"
   },
   {
    "duration": 25,
    "start_time": "2021-12-12T22:14:49.434Z"
   },
   {
    "duration": 4,
    "start_time": "2021-12-12T22:14:56.230Z"
   },
   {
    "duration": 21,
    "start_time": "2021-12-12T22:14:59.818Z"
   },
   {
    "duration": 4,
    "start_time": "2021-12-12T22:15:01.884Z"
   },
   {
    "duration": 25,
    "start_time": "2021-12-12T22:15:03.917Z"
   },
   {
    "duration": 18,
    "start_time": "2021-12-12T22:15:06.835Z"
   },
   {
    "duration": 24,
    "start_time": "2021-12-12T22:15:09.855Z"
   },
   {
    "duration": 70,
    "start_time": "2021-12-12T22:15:12.305Z"
   },
   {
    "duration": 64,
    "start_time": "2021-12-12T22:15:14.420Z"
   },
   {
    "duration": 50,
    "start_time": "2021-12-12T22:15:17.616Z"
   },
   {
    "duration": 46,
    "start_time": "2021-12-12T22:15:19.970Z"
   },
   {
    "duration": 3,
    "start_time": "2021-12-12T22:15:23.615Z"
   },
   {
    "duration": 10,
    "start_time": "2021-12-12T22:15:40.595Z"
   },
   {
    "duration": 40,
    "start_time": "2021-12-12T22:15:49.462Z"
   },
   {
    "duration": 14,
    "start_time": "2021-12-12T22:16:01.586Z"
   },
   {
    "duration": 4769,
    "start_time": "2021-12-12T22:16:04.518Z"
   },
   {
    "duration": 5152,
    "start_time": "2021-12-12T22:17:24.631Z"
   },
   {
    "duration": 5240,
    "start_time": "2021-12-12T22:17:38.316Z"
   },
   {
    "duration": 2,
    "start_time": "2021-12-12T22:19:25.241Z"
   },
   {
    "duration": 936,
    "start_time": "2021-12-12T22:19:27.495Z"
   },
   {
    "duration": 10,
    "start_time": "2021-12-12T22:19:32.345Z"
   },
   {
    "duration": 25,
    "start_time": "2021-12-12T22:19:35.591Z"
   },
   {
    "duration": 4,
    "start_time": "2021-12-12T22:19:39.886Z"
   },
   {
    "duration": 22,
    "start_time": "2021-12-12T22:19:43.075Z"
   },
   {
    "duration": 4,
    "start_time": "2021-12-12T22:19:46.024Z"
   },
   {
    "duration": 22,
    "start_time": "2021-12-12T22:19:49.085Z"
   },
   {
    "duration": 19,
    "start_time": "2021-12-12T22:19:52.402Z"
   },
   {
    "duration": 22,
    "start_time": "2021-12-12T22:19:55.056Z"
   },
   {
    "duration": 55,
    "start_time": "2021-12-12T22:19:57.574Z"
   },
   {
    "duration": 68,
    "start_time": "2021-12-12T22:20:00.809Z"
   },
   {
    "duration": 53,
    "start_time": "2021-12-12T22:20:02.982Z"
   },
   {
    "duration": 46,
    "start_time": "2021-12-12T22:20:05.648Z"
   },
   {
    "duration": 2,
    "start_time": "2021-12-12T22:20:09.515Z"
   },
   {
    "duration": 10,
    "start_time": "2021-12-12T22:20:12.198Z"
   },
   {
    "duration": 42,
    "start_time": "2021-12-12T22:20:21.514Z"
   },
   {
    "duration": 9,
    "start_time": "2021-12-12T22:20:45.342Z"
   },
   {
    "duration": 10,
    "start_time": "2021-12-12T22:20:48.241Z"
   },
   {
    "duration": 3,
    "start_time": "2021-12-12T22:20:51.814Z"
   },
   {
    "duration": 16,
    "start_time": "2021-12-12T22:20:55.521Z"
   },
   {
    "duration": 14,
    "start_time": "2021-12-12T22:20:57.449Z"
   },
   {
    "duration": 14,
    "start_time": "2021-12-12T22:20:59.115Z"
   },
   {
    "duration": 17,
    "start_time": "2021-12-12T22:21:00.805Z"
   },
   {
    "duration": 17,
    "start_time": "2021-12-12T22:21:02.560Z"
   },
   {
    "duration": 14,
    "start_time": "2021-12-12T22:21:04.201Z"
   },
   {
    "duration": 9,
    "start_time": "2021-12-12T22:21:07.834Z"
   },
   {
    "duration": 12,
    "start_time": "2021-12-12T22:21:11.025Z"
   },
   {
    "duration": 12,
    "start_time": "2021-12-12T22:21:12.941Z"
   },
   {
    "duration": 4,
    "start_time": "2021-12-12T22:21:16.065Z"
   },
   {
    "duration": 18,
    "start_time": "2021-12-12T22:21:22.082Z"
   },
   {
    "duration": 13,
    "start_time": "2021-12-12T22:21:27.042Z"
   },
   {
    "duration": 18,
    "start_time": "2021-12-12T22:21:34.144Z"
   },
   {
    "duration": 12,
    "start_time": "2021-12-12T22:21:37.090Z"
   },
   {
    "duration": 12,
    "start_time": "2021-12-12T22:21:41.043Z"
   },
   {
    "duration": 4,
    "start_time": "2021-12-12T22:21:44.702Z"
   },
   {
    "duration": 6,
    "start_time": "2021-12-12T22:21:47.734Z"
   },
   {
    "duration": 4,
    "start_time": "2021-12-12T22:21:50.090Z"
   },
   {
    "duration": 717,
    "start_time": "2021-12-13T18:19:53.010Z"
   },
   {
    "duration": 189,
    "start_time": "2021-12-13T18:19:53.729Z"
   },
   {
    "duration": 26,
    "start_time": "2021-12-13T18:19:53.920Z"
   },
   {
    "duration": 32,
    "start_time": "2021-12-13T18:19:53.960Z"
   },
   {
    "duration": 5,
    "start_time": "2021-12-13T18:19:53.995Z"
   },
   {
    "duration": 63,
    "start_time": "2021-12-13T18:19:54.002Z"
   },
   {
    "duration": 9,
    "start_time": "2021-12-13T18:19:54.067Z"
   },
   {
    "duration": 31,
    "start_time": "2021-12-13T18:19:54.081Z"
   },
   {
    "duration": 51,
    "start_time": "2021-12-13T18:19:54.115Z"
   },
   {
    "duration": 29,
    "start_time": "2021-12-13T18:19:54.168Z"
   },
   {
    "duration": 96,
    "start_time": "2021-12-13T18:19:54.199Z"
   },
   {
    "duration": 117,
    "start_time": "2021-12-13T18:19:54.297Z"
   },
   {
    "duration": 82,
    "start_time": "2021-12-13T18:19:54.416Z"
   },
   {
    "duration": 67,
    "start_time": "2021-12-13T18:19:54.500Z"
   },
   {
    "duration": 3,
    "start_time": "2021-12-13T18:19:54.570Z"
   },
   {
    "duration": 21,
    "start_time": "2021-12-13T18:19:54.576Z"
   },
   {
    "duration": 72,
    "start_time": "2021-12-13T18:19:54.599Z"
   },
   {
    "duration": 12,
    "start_time": "2021-12-13T18:19:54.673Z"
   },
   {
    "duration": 12,
    "start_time": "2021-12-13T18:19:54.688Z"
   },
   {
    "duration": 4,
    "start_time": "2021-12-13T18:19:54.702Z"
   },
   {
    "duration": 57,
    "start_time": "2021-12-13T18:19:54.708Z"
   },
   {
    "duration": 17,
    "start_time": "2021-12-13T18:19:54.767Z"
   },
   {
    "duration": 16,
    "start_time": "2021-12-13T18:19:54.788Z"
   },
   {
    "duration": 14,
    "start_time": "2021-12-13T18:19:54.807Z"
   },
   {
    "duration": 48,
    "start_time": "2021-12-13T18:19:54.824Z"
   },
   {
    "duration": 16,
    "start_time": "2021-12-13T18:19:54.874Z"
   },
   {
    "duration": 11,
    "start_time": "2021-12-13T18:19:54.893Z"
   },
   {
    "duration": 15,
    "start_time": "2021-12-13T18:19:54.907Z"
   },
   {
    "duration": 39,
    "start_time": "2021-12-13T18:19:54.924Z"
   },
   {
    "duration": 5,
    "start_time": "2021-12-13T18:19:54.966Z"
   },
   {
    "duration": 27,
    "start_time": "2021-12-13T18:19:54.973Z"
   },
   {
    "duration": 15,
    "start_time": "2021-12-13T18:19:55.003Z"
   },
   {
    "duration": 54,
    "start_time": "2021-12-13T18:19:55.020Z"
   },
   {
    "duration": 15,
    "start_time": "2021-12-13T18:19:55.077Z"
   },
   {
    "duration": 10,
    "start_time": "2021-12-13T18:19:55.094Z"
   },
   {
    "duration": 5,
    "start_time": "2021-12-13T18:19:55.106Z"
   },
   {
    "duration": 49,
    "start_time": "2021-12-13T18:19:55.114Z"
   },
   {
    "duration": 5,
    "start_time": "2021-12-13T18:19:55.165Z"
   }
  ],
  "colab": {
   "collapsed_sections": [
    "E0vqbgi9ay0H",
    "VUC88oWjTJw2"
   ],
   "name": "yandex_music_project_2021.2.ipynb",
   "provenance": []
  },
  "kernelspec": {
   "display_name": "Python 3 (ipykernel)",
   "language": "python",
   "name": "python3"
  },
  "language_info": {
   "codemirror_mode": {
    "name": "ipython",
    "version": 3
   },
   "file_extension": ".py",
   "mimetype": "text/x-python",
   "name": "python",
   "nbconvert_exporter": "python",
   "pygments_lexer": "ipython3",
   "version": "3.10.9"
  },
  "toc": {
   "base_numbering": 1,
   "nav_menu": {},
   "number_sections": false,
   "sideBar": true,
   "skip_h1_title": false,
   "title_cell": "Table of Contents",
   "title_sidebar": "Contents",
   "toc_cell": false,
   "toc_position": {
    "height": "calc(100% - 180px)",
    "left": "10px",
    "top": "150px",
    "width": "383.2px"
   },
   "toc_section_display": true,
   "toc_window_display": true
  }
 },
 "nbformat": 4,
 "nbformat_minor": 1
}
